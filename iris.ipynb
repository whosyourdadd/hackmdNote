{
 "cells": [
  {
   "cell_type": "markdown",
   "id": "e990099b",
   "metadata": {},
   "source": [
    "# Decision Tree / Random Forest\n",
    "\n",
    "> 這次透過 Iris dataset 帶大家了解 Machine Learning 基本的流程，包含：\n",
    "> 1. Data preprocessing\n",
    "> 2. Validation Method\n",
    "> 3. Model Construction\n",
    "> 4. Model Evaluation\n",
    "> 5. Prediction\n",
    "\n",
    "## 資料簡介\n",
    "安德森鳶尾花卉數據集（英文：Anderson's Iris data set），  \n",
    "也稱鳶尾花卉數據集（英文：Iris flower data set）\n",
    "或費雪鳶尾花卉數據集（英文：Fisher's Iris data set），  \n",
    "是一類多重變量分析的數據集。它最初是埃德加·  \n",
    "安德森從加拿大加斯帕半島上的鳶尾屬花朵中提取的形態學變異數據，  \n",
    "後由羅納德·費雪作為判別分析的一個例子，運用到統計學中。  \n",
    "\n",
    "其數據集包含了150個樣本，都屬於鳶尾屬下的三個亞屬，  \n",
    "分別是山鳶尾、變色鳶尾和維吉尼亞鳶尾。四個特徵被用作樣本的定量分析，  \n",
    "它們分別是花萼和花瓣的長度和寬度。基於這四個特徵的集合，  \n",
    "費雪發展了一個線性判別分析以確定其屬種。  "
   ]
  },
  {
   "cell_type": "code",
   "execution_count": 1,
   "id": "1ef39422",
   "metadata": {},
   "outputs": [],
   "source": [
    "import numpy as np\n",
    "import matplotlib.pyplot as plt\n",
    "\n",
    "from sklearn import datasets\n",
    "from sklearn.model_selection import train_test_split\n",
    "\n",
    "from sklearn.tree import DecisionTreeClassifier\n",
    "from sklearn.ensemble import RandomForestClassifier\n",
    "from sklearn.metrics import classification_report, plot_confusion_matrix\n",
    "\n",
    "%matplotlib inline"
   ]
  },
  {
   "cell_type": "markdown",
   "id": "45d9abff",
   "metadata": {},
   "source": [
    "### 相關連結\n",
    "\n",
    "* Packages\n",
    "    * [numpy](http://www.numpy.org/)\n",
    "    * [pandas](https://pandas.pydata.org/)\n",
    "    * [train_test_split](https://scikit-learn.org/stable/modules/generated/sklearn.model_selection.train_test_split.html)\n",
    "    * [DecisionTreeClassifier](https://scikit-learn.org/stable/modules/tree.html)\n",
    "    * [RandomForestClassifier](https://scikit-learn.org/stable/modules/generated/sklearn.ensemble.RandomForestClassifier.html)\n",
    "    * [classification_report](https://scikit-learn.org/stable/modules/generated/sklearn.metrics.classification_report.html)\n",
    "    * [confusion_matrix](https://scikit-learn.org/stable/modules/generated/sklearn.metrics.confusion_matrix.html)\n",
    "    * [pyplot](https://matplotlib.org/tutorials/introductory/pyplot.html)\n",
    "* Markdown\n",
    "    * jupyter 可以支援 markdown 區塊，方便打上文字說明此份 notebook 在做的事情\n",
    "    * [wiki](https://zh.wikipedia.org/wiki/Markdown)\n",
    "    * [教學](https://markdown.tw/)"
   ]
  },
  {
   "cell_type": "markdown",
   "id": "634ba744",
   "metadata": {},
   "source": [
    "## I. Load Data\n",
    "\n",
    "#### 請使用 [`datasets.load_iris`](https://scikit-learn.org/stable/modules/generated/sklearn.datasets.load_iris.html) 將資料讀入"
   ]
  },
  {
   "cell_type": "code",
   "execution_count": 5,
   "id": "cb55831a",
   "metadata": {},
   "outputs": [
    {
     "data": {
      "text/plain": [
       "{'data': array([[5.1, 3.5, 1.4, 0.2],\n",
       "        [4.9, 3. , 1.4, 0.2],\n",
       "        [4.7, 3.2, 1.3, 0.2],\n",
       "        [4.6, 3.1, 1.5, 0.2],\n",
       "        [5. , 3.6, 1.4, 0.2],\n",
       "        [5.4, 3.9, 1.7, 0.4],\n",
       "        [4.6, 3.4, 1.4, 0.3],\n",
       "        [5. , 3.4, 1.5, 0.2],\n",
       "        [4.4, 2.9, 1.4, 0.2],\n",
       "        [4.9, 3.1, 1.5, 0.1],\n",
       "        [5.4, 3.7, 1.5, 0.2],\n",
       "        [4.8, 3.4, 1.6, 0.2],\n",
       "        [4.8, 3. , 1.4, 0.1],\n",
       "        [4.3, 3. , 1.1, 0.1],\n",
       "        [5.8, 4. , 1.2, 0.2],\n",
       "        [5.7, 4.4, 1.5, 0.4],\n",
       "        [5.4, 3.9, 1.3, 0.4],\n",
       "        [5.1, 3.5, 1.4, 0.3],\n",
       "        [5.7, 3.8, 1.7, 0.3],\n",
       "        [5.1, 3.8, 1.5, 0.3],\n",
       "        [5.4, 3.4, 1.7, 0.2],\n",
       "        [5.1, 3.7, 1.5, 0.4],\n",
       "        [4.6, 3.6, 1. , 0.2],\n",
       "        [5.1, 3.3, 1.7, 0.5],\n",
       "        [4.8, 3.4, 1.9, 0.2],\n",
       "        [5. , 3. , 1.6, 0.2],\n",
       "        [5. , 3.4, 1.6, 0.4],\n",
       "        [5.2, 3.5, 1.5, 0.2],\n",
       "        [5.2, 3.4, 1.4, 0.2],\n",
       "        [4.7, 3.2, 1.6, 0.2],\n",
       "        [4.8, 3.1, 1.6, 0.2],\n",
       "        [5.4, 3.4, 1.5, 0.4],\n",
       "        [5.2, 4.1, 1.5, 0.1],\n",
       "        [5.5, 4.2, 1.4, 0.2],\n",
       "        [4.9, 3.1, 1.5, 0.2],\n",
       "        [5. , 3.2, 1.2, 0.2],\n",
       "        [5.5, 3.5, 1.3, 0.2],\n",
       "        [4.9, 3.6, 1.4, 0.1],\n",
       "        [4.4, 3. , 1.3, 0.2],\n",
       "        [5.1, 3.4, 1.5, 0.2],\n",
       "        [5. , 3.5, 1.3, 0.3],\n",
       "        [4.5, 2.3, 1.3, 0.3],\n",
       "        [4.4, 3.2, 1.3, 0.2],\n",
       "        [5. , 3.5, 1.6, 0.6],\n",
       "        [5.1, 3.8, 1.9, 0.4],\n",
       "        [4.8, 3. , 1.4, 0.3],\n",
       "        [5.1, 3.8, 1.6, 0.2],\n",
       "        [4.6, 3.2, 1.4, 0.2],\n",
       "        [5.3, 3.7, 1.5, 0.2],\n",
       "        [5. , 3.3, 1.4, 0.2],\n",
       "        [7. , 3.2, 4.7, 1.4],\n",
       "        [6.4, 3.2, 4.5, 1.5],\n",
       "        [6.9, 3.1, 4.9, 1.5],\n",
       "        [5.5, 2.3, 4. , 1.3],\n",
       "        [6.5, 2.8, 4.6, 1.5],\n",
       "        [5.7, 2.8, 4.5, 1.3],\n",
       "        [6.3, 3.3, 4.7, 1.6],\n",
       "        [4.9, 2.4, 3.3, 1. ],\n",
       "        [6.6, 2.9, 4.6, 1.3],\n",
       "        [5.2, 2.7, 3.9, 1.4],\n",
       "        [5. , 2. , 3.5, 1. ],\n",
       "        [5.9, 3. , 4.2, 1.5],\n",
       "        [6. , 2.2, 4. , 1. ],\n",
       "        [6.1, 2.9, 4.7, 1.4],\n",
       "        [5.6, 2.9, 3.6, 1.3],\n",
       "        [6.7, 3.1, 4.4, 1.4],\n",
       "        [5.6, 3. , 4.5, 1.5],\n",
       "        [5.8, 2.7, 4.1, 1. ],\n",
       "        [6.2, 2.2, 4.5, 1.5],\n",
       "        [5.6, 2.5, 3.9, 1.1],\n",
       "        [5.9, 3.2, 4.8, 1.8],\n",
       "        [6.1, 2.8, 4. , 1.3],\n",
       "        [6.3, 2.5, 4.9, 1.5],\n",
       "        [6.1, 2.8, 4.7, 1.2],\n",
       "        [6.4, 2.9, 4.3, 1.3],\n",
       "        [6.6, 3. , 4.4, 1.4],\n",
       "        [6.8, 2.8, 4.8, 1.4],\n",
       "        [6.7, 3. , 5. , 1.7],\n",
       "        [6. , 2.9, 4.5, 1.5],\n",
       "        [5.7, 2.6, 3.5, 1. ],\n",
       "        [5.5, 2.4, 3.8, 1.1],\n",
       "        [5.5, 2.4, 3.7, 1. ],\n",
       "        [5.8, 2.7, 3.9, 1.2],\n",
       "        [6. , 2.7, 5.1, 1.6],\n",
       "        [5.4, 3. , 4.5, 1.5],\n",
       "        [6. , 3.4, 4.5, 1.6],\n",
       "        [6.7, 3.1, 4.7, 1.5],\n",
       "        [6.3, 2.3, 4.4, 1.3],\n",
       "        [5.6, 3. , 4.1, 1.3],\n",
       "        [5.5, 2.5, 4. , 1.3],\n",
       "        [5.5, 2.6, 4.4, 1.2],\n",
       "        [6.1, 3. , 4.6, 1.4],\n",
       "        [5.8, 2.6, 4. , 1.2],\n",
       "        [5. , 2.3, 3.3, 1. ],\n",
       "        [5.6, 2.7, 4.2, 1.3],\n",
       "        [5.7, 3. , 4.2, 1.2],\n",
       "        [5.7, 2.9, 4.2, 1.3],\n",
       "        [6.2, 2.9, 4.3, 1.3],\n",
       "        [5.1, 2.5, 3. , 1.1],\n",
       "        [5.7, 2.8, 4.1, 1.3],\n",
       "        [6.3, 3.3, 6. , 2.5],\n",
       "        [5.8, 2.7, 5.1, 1.9],\n",
       "        [7.1, 3. , 5.9, 2.1],\n",
       "        [6.3, 2.9, 5.6, 1.8],\n",
       "        [6.5, 3. , 5.8, 2.2],\n",
       "        [7.6, 3. , 6.6, 2.1],\n",
       "        [4.9, 2.5, 4.5, 1.7],\n",
       "        [7.3, 2.9, 6.3, 1.8],\n",
       "        [6.7, 2.5, 5.8, 1.8],\n",
       "        [7.2, 3.6, 6.1, 2.5],\n",
       "        [6.5, 3.2, 5.1, 2. ],\n",
       "        [6.4, 2.7, 5.3, 1.9],\n",
       "        [6.8, 3. , 5.5, 2.1],\n",
       "        [5.7, 2.5, 5. , 2. ],\n",
       "        [5.8, 2.8, 5.1, 2.4],\n",
       "        [6.4, 3.2, 5.3, 2.3],\n",
       "        [6.5, 3. , 5.5, 1.8],\n",
       "        [7.7, 3.8, 6.7, 2.2],\n",
       "        [7.7, 2.6, 6.9, 2.3],\n",
       "        [6. , 2.2, 5. , 1.5],\n",
       "        [6.9, 3.2, 5.7, 2.3],\n",
       "        [5.6, 2.8, 4.9, 2. ],\n",
       "        [7.7, 2.8, 6.7, 2. ],\n",
       "        [6.3, 2.7, 4.9, 1.8],\n",
       "        [6.7, 3.3, 5.7, 2.1],\n",
       "        [7.2, 3.2, 6. , 1.8],\n",
       "        [6.2, 2.8, 4.8, 1.8],\n",
       "        [6.1, 3. , 4.9, 1.8],\n",
       "        [6.4, 2.8, 5.6, 2.1],\n",
       "        [7.2, 3. , 5.8, 1.6],\n",
       "        [7.4, 2.8, 6.1, 1.9],\n",
       "        [7.9, 3.8, 6.4, 2. ],\n",
       "        [6.4, 2.8, 5.6, 2.2],\n",
       "        [6.3, 2.8, 5.1, 1.5],\n",
       "        [6.1, 2.6, 5.6, 1.4],\n",
       "        [7.7, 3. , 6.1, 2.3],\n",
       "        [6.3, 3.4, 5.6, 2.4],\n",
       "        [6.4, 3.1, 5.5, 1.8],\n",
       "        [6. , 3. , 4.8, 1.8],\n",
       "        [6.9, 3.1, 5.4, 2.1],\n",
       "        [6.7, 3.1, 5.6, 2.4],\n",
       "        [6.9, 3.1, 5.1, 2.3],\n",
       "        [5.8, 2.7, 5.1, 1.9],\n",
       "        [6.8, 3.2, 5.9, 2.3],\n",
       "        [6.7, 3.3, 5.7, 2.5],\n",
       "        [6.7, 3. , 5.2, 2.3],\n",
       "        [6.3, 2.5, 5. , 1.9],\n",
       "        [6.5, 3. , 5.2, 2. ],\n",
       "        [6.2, 3.4, 5.4, 2.3],\n",
       "        [5.9, 3. , 5.1, 1.8]]),\n",
       " 'target': array([0, 0, 0, 0, 0, 0, 0, 0, 0, 0, 0, 0, 0, 0, 0, 0, 0, 0, 0, 0, 0, 0,\n",
       "        0, 0, 0, 0, 0, 0, 0, 0, 0, 0, 0, 0, 0, 0, 0, 0, 0, 0, 0, 0, 0, 0,\n",
       "        0, 0, 0, 0, 0, 0, 1, 1, 1, 1, 1, 1, 1, 1, 1, 1, 1, 1, 1, 1, 1, 1,\n",
       "        1, 1, 1, 1, 1, 1, 1, 1, 1, 1, 1, 1, 1, 1, 1, 1, 1, 1, 1, 1, 1, 1,\n",
       "        1, 1, 1, 1, 1, 1, 1, 1, 1, 1, 1, 1, 2, 2, 2, 2, 2, 2, 2, 2, 2, 2,\n",
       "        2, 2, 2, 2, 2, 2, 2, 2, 2, 2, 2, 2, 2, 2, 2, 2, 2, 2, 2, 2, 2, 2,\n",
       "        2, 2, 2, 2, 2, 2, 2, 2, 2, 2, 2, 2, 2, 2, 2, 2, 2, 2]),\n",
       " 'frame': None,\n",
       " 'target_names': array(['setosa', 'versicolor', 'virginica'], dtype='<U10'),\n",
       " 'DESCR': '.. _iris_dataset:\\n\\nIris plants dataset\\n--------------------\\n\\n**Data Set Characteristics:**\\n\\n    :Number of Instances: 150 (50 in each of three classes)\\n    :Number of Attributes: 4 numeric, predictive attributes and the class\\n    :Attribute Information:\\n        - sepal length in cm\\n        - sepal width in cm\\n        - petal length in cm\\n        - petal width in cm\\n        - class:\\n                - Iris-Setosa\\n                - Iris-Versicolour\\n                - Iris-Virginica\\n                \\n    :Summary Statistics:\\n\\n    ============== ==== ==== ======= ===== ====================\\n                    Min  Max   Mean    SD   Class Correlation\\n    ============== ==== ==== ======= ===== ====================\\n    sepal length:   4.3  7.9   5.84   0.83    0.7826\\n    sepal width:    2.0  4.4   3.05   0.43   -0.4194\\n    petal length:   1.0  6.9   3.76   1.76    0.9490  (high!)\\n    petal width:    0.1  2.5   1.20   0.76    0.9565  (high!)\\n    ============== ==== ==== ======= ===== ====================\\n\\n    :Missing Attribute Values: None\\n    :Class Distribution: 33.3% for each of 3 classes.\\n    :Creator: R.A. Fisher\\n    :Donor: Michael Marshall (MARSHALL%PLU@io.arc.nasa.gov)\\n    :Date: July, 1988\\n\\nThe famous Iris database, first used by Sir R.A. Fisher. The dataset is taken\\nfrom Fisher\\'s paper. Note that it\\'s the same as in R, but not as in the UCI\\nMachine Learning Repository, which has two wrong data points.\\n\\nThis is perhaps the best known database to be found in the\\npattern recognition literature.  Fisher\\'s paper is a classic in the field and\\nis referenced frequently to this day.  (See Duda & Hart, for example.)  The\\ndata set contains 3 classes of 50 instances each, where each class refers to a\\ntype of iris plant.  One class is linearly separable from the other 2; the\\nlatter are NOT linearly separable from each other.\\n\\n.. topic:: References\\n\\n   - Fisher, R.A. \"The use of multiple measurements in taxonomic problems\"\\n     Annual Eugenics, 7, Part II, 179-188 (1936); also in \"Contributions to\\n     Mathematical Statistics\" (John Wiley, NY, 1950).\\n   - Duda, R.O., & Hart, P.E. (1973) Pattern Classification and Scene Analysis.\\n     (Q327.D83) John Wiley & Sons.  ISBN 0-471-22361-1.  See page 218.\\n   - Dasarathy, B.V. (1980) \"Nosing Around the Neighborhood: A New System\\n     Structure and Classification Rule for Recognition in Partially Exposed\\n     Environments\".  IEEE Transactions on Pattern Analysis and Machine\\n     Intelligence, Vol. PAMI-2, No. 1, 67-71.\\n   - Gates, G.W. (1972) \"The Reduced Nearest Neighbor Rule\".  IEEE Transactions\\n     on Information Theory, May 1972, 431-433.\\n   - See also: 1988 MLC Proceedings, 54-64.  Cheeseman et al\"s AUTOCLASS II\\n     conceptual clustering system finds 3 classes in the data.\\n   - Many, many more ...',\n",
       " 'feature_names': ['sepal length (cm)',\n",
       "  'sepal width (cm)',\n",
       "  'petal length (cm)',\n",
       "  'petal width (cm)'],\n",
       " 'filename': '/Users/tangjiece/opt/anaconda3/lib/python3.8/site-packages/sklearn/datasets/data/iris.csv'}"
      ]
     },
     "execution_count": 5,
     "metadata": {},
     "output_type": "execute_result"
    }
   ],
   "source": [
    "from sklearn.datasets import load_iris\n",
    "data1=load_iris()\n",
    "data1"
   ]
  },
  {
   "cell_type": "markdown",
   "id": "b113d3ba",
   "metadata": {},
   "source": [
    "#### 請使用 python 內建的 [`type`](https://docs.python.org/3/library/functions.html#type) function 取得 `iris` 的資料型態"
   ]
  },
  {
   "cell_type": "code",
   "execution_count": 6,
   "id": "8afb101f",
   "metadata": {},
   "outputs": [
    {
     "data": {
      "text/plain": [
       "sklearn.utils.Bunch"
      ]
     },
     "execution_count": 6,
     "metadata": {},
     "output_type": "execute_result"
    }
   ],
   "source": [
    "type(data1)"
   ]
  },
  {
   "cell_type": "markdown",
   "id": "408e35d6",
   "metadata": {},
   "source": [
    "> 根據 document 的說明，回傳的資料是 sklearn.utils 定義的 `Bunch` 型態，特徵為 **Dictionary-like**  \n",
    "> 因此我們可以使用 `dict` 的操作方式取得其中的資料"
   ]
  },
  {
   "cell_type": "markdown",
   "id": "5c2e4039",
   "metadata": {},
   "source": [
    "### Data\n",
    "\n",
    "#### 請使用 `dict` 及 numpy array 操作，將 `iris` 中 data 的前 10 個 **row** 印出"
   ]
  },
  {
   "cell_type": "code",
   "execution_count": 7,
   "id": "2e929ffa",
   "metadata": {},
   "outputs": [
    {
     "data": {
      "text/plain": [
       "array([[5.1, 3.5, 1.4, 0.2],\n",
       "       [4.9, 3. , 1.4, 0.2],\n",
       "       [4.7, 3.2, 1.3, 0.2],\n",
       "       [4.6, 3.1, 1.5, 0.2],\n",
       "       [5. , 3.6, 1.4, 0.2],\n",
       "       [5.4, 3.9, 1.7, 0.4],\n",
       "       [4.6, 3.4, 1.4, 0.3],\n",
       "       [5. , 3.4, 1.5, 0.2],\n",
       "       [4.4, 2.9, 1.4, 0.2],\n",
       "       [4.9, 3.1, 1.5, 0.1],\n",
       "       [5.4, 3.7, 1.5, 0.2]])"
      ]
     },
     "execution_count": 7,
     "metadata": {},
     "output_type": "execute_result"
    }
   ],
   "source": [
    "arr=data1['data'][:11,:11]\n",
    "arr"
   ]
  },
  {
   "cell_type": "markdown",
   "id": "efead66d",
   "metadata": {},
   "source": [
    "#### 請印出 `data` 部分的 [`shape`](https://numpy.org/doc/stable/reference/generated/numpy.ndarray.shape.html)"
   ]
  },
  {
   "cell_type": "code",
   "execution_count": 8,
   "id": "a889bf42",
   "metadata": {},
   "outputs": [
    {
     "data": {
      "text/plain": [
       "(150, 4)"
      ]
     },
     "execution_count": 8,
     "metadata": {},
     "output_type": "execute_result"
    }
   ],
   "source": [
    "data1['data'].shape"
   ]
  },
  {
   "cell_type": "markdown",
   "id": "e496be62",
   "metadata": {},
   "source": [
    "> 根據以上的資訊，可以看出 iris dataset 具有 150 筆 **instance (record)** ，而每個 instance 具有 4 個 **feature(attribute)**   \n",
    "> 而根據資料說明，此 4 個 feature 的意義為 花萼長/寬 以及 花瓣長/寬"
   ]
  },
  {
   "cell_type": "markdown",
   "id": "7662187e",
   "metadata": {},
   "source": [
    "#### 請使用 `dict` 及 numpy array 操作，將 `iris` 中的 target 印出"
   ]
  },
  {
   "cell_type": "code",
   "execution_count": 11,
   "id": "e40b7a98",
   "metadata": {},
   "outputs": [
    {
     "data": {
      "text/plain": [
       "array([0, 0, 0, 0, 0, 0, 0, 0, 0, 0, 0, 0, 0, 0, 0, 0, 0, 0, 0, 0, 0, 0,\n",
       "       0, 0, 0, 0, 0, 0, 0, 0, 0, 0, 0, 0, 0, 0, 0, 0, 0, 0, 0, 0, 0, 0,\n",
       "       0, 0, 0, 0, 0, 0, 1, 1, 1, 1, 1, 1, 1, 1, 1, 1, 1, 1, 1, 1, 1, 1,\n",
       "       1, 1, 1, 1, 1, 1, 1, 1, 1, 1, 1, 1, 1, 1, 1, 1, 1, 1, 1, 1, 1, 1,\n",
       "       1, 1, 1, 1, 1, 1, 1, 1, 1, 1, 1, 1, 2, 2, 2, 2, 2, 2, 2, 2, 2, 2,\n",
       "       2, 2, 2, 2, 2, 2, 2, 2, 2, 2, 2, 2, 2, 2, 2, 2, 2, 2, 2, 2, 2, 2,\n",
       "       2, 2, 2, 2, 2, 2, 2, 2, 2, 2, 2, 2, 2, 2, 2, 2, 2, 2])"
      ]
     },
     "execution_count": 11,
     "metadata": {},
     "output_type": "execute_result"
    }
   ],
   "source": [
    "target1=data1['target']\n",
    "target1"
   ]
  },
  {
   "cell_type": "markdown",
   "id": "d892ca38",
   "metadata": {},
   "source": [
    "> 此 dataset 為一 classfication task，  \n",
    "> 資料中的 **target（或稱 label）**即為資料中的預計作為預測的分類，  \n",
    "> 根據資料說明： 0, 1, 2 分別代表其中一個種類的花\n",
    "\n",
    "---\n",
    "\n",
    "## II. Data Visualization\n",
    "\n",
    "#### 請使用 `pyplot` 將 4 個 feature 的 [histogram](https://matplotlib.org/stable/api/_as_gen/matplotlib.pyplot.hist.html) 畫至同一張 plot\n",
    "* Hint: `label`, `plt.legend`, `alpha`"
   ]
  },
  {
   "cell_type": "code",
   "execution_count": 9,
   "id": "9977b1a6",
   "metadata": {},
   "outputs": [
    {
     "data": {
      "text/plain": [
       "<matplotlib.legend.Legend at 0x7fd09b160f10>"
      ]
     },
     "execution_count": 9,
     "metadata": {},
     "output_type": "execute_result"
    },
    {
     "data": {
      "image/png": "[encoded data removed]",
      "text/plain": [
       "<Figure size 720x360 with 1 Axes>"
      ]
     },
     "metadata": {
      "needs_background": "light"
     },
     "output_type": "display_data"
    }
   ],
   "source": [
    "plt.figure(figsize=(10, 5))\n",
    "\n",
    "'''Your Code Here'''\n",
    "plt.hist(data1['data'][:150,0],alpha=0.2,label='feature-0',bins=10)\n",
    "plt.hist(data1['data'][:150,1],alpha=0.3,label='feature-1')\n",
    "plt.hist(data1['data'][:150,2],alpha=0.4,label='feature-2')\n",
    "plt.hist(data1['data'][:150,3],alpha=0.5,label='feature-3')\n",
    "plt.legend()"
   ]
  },
  {
   "cell_type": "markdown",
   "id": "a5441459",
   "metadata": {},
   "source": [
    "#### 請使用 `pyplot` 以 scatter plot 將前兩個 feature 畫出，並以 target 作為顏色區分三種分類\n",
    "\n",
    "* Hint: `plt.scatter`, `c`"
   ]
  },
  {
   "cell_type": "code",
   "execution_count": 13,
   "id": "2fe25fc2",
   "metadata": {},
   "outputs": [
    {
     "data": {
      "text/plain": [
       "<matplotlib.collections.PathCollection at 0x296b945d130>"
      ]
     },
     "execution_count": 13,
     "metadata": {},
     "output_type": "execute_result"
    },
    {
     "data": {
      "image/png": "[encoded data removed]",
      "text/plain": [
       "<Figure size 720x720 with 1 Axes>"
      ]
     },
     "metadata": {
      "needs_background": "light"
     },
     "output_type": "display_data"
    }
   ],
   "source": [
    "plt.figure(figsize=(10, 10))\n",
    "'''Your Code Here'''\n",
    "plt.scatter(data1['data'][:150,0],data1['data'][:150,1],c=target1)"
   ]
  },
  {
   "cell_type": "markdown",
   "id": "ecc02ee3",
   "metadata": {},
   "source": [
    "> 藉由散佈圖，我們可以發現紫色的類別僅使用前兩個 feature 便可以與其他兩類分開\n",
    "\n",
    "---\n",
    "\n",
    "## III. Data Preprocessing & Validation Method\n",
    "\n",
    "* 因為這次使用的資料已經經過處理，便不需要什麼特別的 preprocessing。\n",
    "* 普遍的 preprocessing 有：\n",
    "    * 型態轉換\n",
    "    * Missing value 補齊（`imputer`）\n",
    "    * 刪除不必要的 column（如 id 等）\n",
    "    * 增加人工產生的 feature\n",
    "    \n",
    "#### 將 `data` 以及 `target` 的部分取出，分別使用慣用的 `X` 以及 `y` 代表\n",
    "* ML 領域沿用線性代數的慣例，因此 `y` 會是小寫"
   ]
  },
  {
   "cell_type": "code",
   "execution_count": 14,
   "id": "5d865e2b",
   "metadata": {},
   "outputs": [
    {
     "data": {
      "text/plain": [
       "(array([[5.1, 3.5, 1.4, 0.2],\n",
       "        [4.9, 3. , 1.4, 0.2],\n",
       "        [4.7, 3.2, 1.3, 0.2],\n",
       "        [4.6, 3.1, 1.5, 0.2],\n",
       "        [5. , 3.6, 1.4, 0.2],\n",
       "        [5.4, 3.9, 1.7, 0.4],\n",
       "        [4.6, 3.4, 1.4, 0.3],\n",
       "        [5. , 3.4, 1.5, 0.2],\n",
       "        [4.4, 2.9, 1.4, 0.2],\n",
       "        [4.9, 3.1, 1.5, 0.1]]),\n",
       " array([0, 0, 0, 0, 0, 0, 0, 0, 0, 0, 0, 0, 0, 0, 0, 0, 0, 0, 0, 0, 0, 0,\n",
       "        0, 0, 0, 0, 0, 0, 0, 0, 0, 0, 0, 0, 0, 0, 0, 0, 0, 0, 0, 0, 0, 0,\n",
       "        0, 0, 0, 0, 0, 0, 1, 1, 1, 1, 1, 1, 1, 1, 1, 1, 1, 1, 1, 1, 1, 1,\n",
       "        1, 1, 1, 1, 1, 1, 1, 1, 1, 1, 1, 1, 1, 1, 1, 1, 1, 1, 1, 1, 1, 1,\n",
       "        1, 1, 1, 1, 1, 1, 1, 1, 1, 1, 1, 1, 2, 2, 2, 2, 2, 2, 2, 2, 2, 2,\n",
       "        2, 2, 2, 2, 2, 2, 2, 2, 2, 2, 2, 2, 2, 2, 2, 2, 2, 2, 2, 2, 2, 2,\n",
       "        2, 2, 2, 2, 2, 2, 2, 2, 2, 2, 2, 2, 2, 2, 2, 2, 2, 2]))"
      ]
     },
     "execution_count": 14,
     "metadata": {},
     "output_type": "execute_result"
    }
   ],
   "source": [
    "X = data1['data']\n",
    "y = data1['target']\n",
    "\n",
    "X[:10], y"
   ]
  },
  {
   "cell_type": "code",
   "execution_count": 15,
   "id": "ba7c5f54",
   "metadata": {},
   "outputs": [
    {
     "data": {
      "text/plain": [
       "((105, 4), (45, 4), (105,), (45,))"
      ]
     },
     "execution_count": 15,
     "metadata": {},
     "output_type": "execute_result"
    }
   ],
   "source": [
    "X_train, X_test, y_train, y_test = train_test_split(X,y,test_size=0.3, train_size=0.7, random_state=0)\n",
    "\n",
    "X_train.shape, X_test.shape, y_train.shape, y_test.shape"
   ]
  },
  {
   "cell_type": "markdown",
   "id": "0575280b",
   "metadata": {},
   "source": [
    "#### Holdout Validation - 請使用 [`train_test_split`](https://scikit-learn.org/stable/modules/generated/sklearn.model_selection.train_test_split.html) 將 `X` 及 `y` 分為 training set 以及 testing set.\n",
    "* 此次 Validation Method 使用 7:3 Holdout Validation，意即將資料筆數的 $\\frac{7}{10}$ 作為 **training set**，$\\frac{3}{10}$ 作為 **testing set**\n",
    "    * **training set** 僅用來訓練模型（model)\n",
    "    * **testing set** 不加入訓練，而作為訓練完的模型評估效果使用\n",
    "* `train_test_split` 中提供 `random_state` 參數，若給定的話每次的分割都會是相同的，方便實驗"
   ]
  },
  {
   "cell_type": "markdown",
   "id": "1ce87427",
   "metadata": {},
   "source": [
    "---\n",
    "\n",
    "## IV. Model Construction & Evaluation\n",
    "\n",
    "以下將分別針對 [`DecisionTreeClassifier`](https://scikit-learn.org/stable/modules/generated/sklearn.tree.DecisionTreeClassifier.html) 以及 [`RandomForestClassifier`](https://scikit-learn.org/stable/modules/generated/sklearn.ensemble.RandomForestClassifier.html) 進行 training 以及 evaluation\n",
    "\n",
    "`sklearn` 中提供的 model 皆提供相同的 member methods，因此即使使用不同 model 也可以快速訓練並得到結果\n",
    "* `fit` - 訓練模型，需同時提供 `X` 以及 `y`\n",
    "* `predict` - 使用模型對 `X` 進行預測\n",
    "* `score` - 針對 classfication task，計算 `X` 及 `y` 以得到準確率（accuracy）\n",
    "\n",
    "\n",
    "#### 請建構一個 `DecisionTreeClassfier` 及一個 `RandomForestClassfier` 並使用 `X_train` 及 `y_train` 進行訓練"
   ]
  },
  {
   "cell_type": "code",
   "execution_count": 35,
   "id": "76756139",
   "metadata": {},
   "outputs": [
    {
     "data": {
      "text/plain": [
       "(DecisionTreeClassifier(criterion='entropy', max_depth=1, random_state=0,\n",
       "                        splitter='random'),\n",
       " RandomForestClassifier(random_state=0))"
      ]
     },
     "execution_count": 35,
     "metadata": {},
     "output_type": "execute_result"
    },
    {
     "data": {
      "image/png": "[encoded data removed]",
      "text/plain": [
       "<Figure size 432x288 with 1 Axes>"
      ]
     },
     "metadata": {
      "needs_background": "light"
     },
     "output_type": "display_data"
    }
   ],
   "source": [
    "dt_clf = DecisionTreeClassifier(\n",
    "            random_state=0,#Controls the randomness of the estimato\n",
    "            criterion='entropy',#The function to measure the quality of a split\n",
    "            splitter = 'random',#The strategy used to choose the split at each node. \n",
    "                                #Supported strategies are “best” to choose the best split and “random” to choose the best random split.\n",
    "            max_depth = 1,#The maximum depth of the tree.限制樹的深度\n",
    "                          #If None, then nodes are expanded until all leaves are pure or until all leaves contain less than min_samples_split samples.\n",
    "            min_samples_split = 2 #The minimum number of samples \n",
    "            )\n",
    "\n",
    "rf_clf = RandomForestClassifier(random_state=0)\n",
    "\n",
    "'''Your Code Here'''\n",
    "dt_clf.fit(X_train,y_train)\n",
    "rf_clf.fit(X_train,y_train)\n",
    "from sklearn.tree import plot_tree\n",
    "plot_tree(dt_clf)\n",
    "dt_clf, rf_clf"
   ]
  },
  {
   "cell_type": "markdown",
   "id": "6184d075",
   "metadata": {},
   "source": [
    "#### 請使用 [`classfication_report`](https://scikit-learn.org/stable/modules/generated/sklearn.metrics.classification_report.html) 印出兩個模型的在 testing set 的 accuracy, precision, recall, f1"
   ]
  },
  {
   "cell_type": "code",
   "execution_count": 32,
   "id": "22a2b15f",
   "metadata": {},
   "outputs": [
    {
     "name": "stdout",
     "output_type": "stream",
     "text": [
      "Decision Tree:\n",
      "              precision    recall  f1-score   support\n",
      "\n",
      "           0       1.00      1.00      1.00        16\n",
      "           1       0.00      0.00      0.00         0\n",
      "           2       1.00      0.38      0.55        29\n",
      "\n",
      "    accuracy                           0.60        45\n",
      "   macro avg       0.67      0.46      0.52        45\n",
      "weighted avg       1.00      0.60      0.71        45\n",
      "\n",
      "Random Forest:\n",
      "              precision    recall  f1-score   support\n",
      "\n",
      "           0       1.00      1.00      1.00        16\n",
      "           1       0.94      1.00      0.97        17\n",
      "           2       1.00      0.92      0.96        12\n",
      "\n",
      "    accuracy                           0.98        45\n",
      "   macro avg       0.98      0.97      0.98        45\n",
      "weighted avg       0.98      0.98      0.98        45\n",
      "\n"
     ]
    },
    {
     "name": "stderr",
     "output_type": "stream",
     "text": [
      "C:\\Users\\Shen\\anaconda3\\lib\\site-packages\\sklearn\\metrics\\_classification.py:1248: UndefinedMetricWarning: Recall and F-score are ill-defined and being set to 0.0 in labels with no true samples. Use `zero_division` parameter to control this behavior.\n",
      "  _warn_prf(average, modifier, msg_start, len(result))\n",
      "C:\\Users\\Shen\\anaconda3\\lib\\site-packages\\sklearn\\metrics\\_classification.py:1248: UndefinedMetricWarning: Recall and F-score are ill-defined and being set to 0.0 in labels with no true samples. Use `zero_division` parameter to control this behavior.\n",
      "  _warn_prf(average, modifier, msg_start, len(result))\n",
      "C:\\Users\\Shen\\anaconda3\\lib\\site-packages\\sklearn\\metrics\\_classification.py:1248: UndefinedMetricWarning: Recall and F-score are ill-defined and being set to 0.0 in labels with no true samples. Use `zero_division` parameter to control this behavior.\n",
      "  _warn_prf(average, modifier, msg_start, len(result))\n"
     ]
    }
   ],
   "source": [
    "print('Decision Tree:')\n",
    "print(classification_report(dt_clf.predict(X_test),y_test))\n",
    "\n",
    "print('Random Forest:')\n",
    "print(classification_report(rf_clf.predict(X_test),y_test))"
   ]
  },
  {
   "cell_type": "markdown",
   "id": "ca7285f5",
   "metadata": {},
   "source": [
    "#### 請使用 [`plot_confusion_matrix`](https://scikit-learn.org/stable/auto_examples/model_selection/plot_confusion_matrix.html) 畫出 model 在 testing set 的 confusion matrix\n",
    "* Hint: [改變圖的大小](https://stackoverflow.com/questions/61325314/how-to-change-plot-confusion-matrix-default-figure-size-in-sklearn-metrics-packa)"
   ]
  },
  {
   "cell_type": "code",
   "execution_count": 114,
   "id": "c7df8498",
   "metadata": {},
   "outputs": [
    {
     "data": {
      "image/png": "[encoded data removed]",
      "text/plain": [
       "<Figure size 432x288 with 2 Axes>"
      ]
     },
     "metadata": {
      "needs_background": "light"
     },
     "output_type": "display_data"
    },
    {
     "data": {
      "image/png": "[encoded data removed]",
      "text/plain": [
       "<Figure size 432x288 with 2 Axes>"
      ]
     },
     "metadata": {
      "needs_background": "light"
     },
     "output_type": "display_data"
    }
   ],
   "source": [
    "dsp=plot_confusion_matrix(dt_clf, X_test, y_test,cmap=plt.cm.Reds)\n",
    "dsp.ax_.set_title('Decision Tree')\n",
    "plt.show()\n",
    "\n",
    "dsp=plot_confusion_matrix(rf_clf, X_test, y_test,cmap=plt.cm.Greens)\n",
    "dsp.ax_.set_title('Random Forest')\n",
    "plt.show()"
   ]
  },
  {
   "cell_type": "markdown",
   "id": "aefa1e6c",
   "metadata": {},
   "source": [
    "> 有了 testing set 下的 evaluation，我們才可以正確的評估 model 的效果，  \n",
    "> 並避開了可能的 **overfitting** 問題。\n",
    "\n",
    "---\n",
    "\n",
    "## V. Prediction\n",
    "\n",
    "有了 model 後，我們將可以對新的資料進行預測\n",
    "\n",
    "#### 請使用 `rf_clf` 對新量測到的資料 `X_new` 進行預測\n",
    "* Hint: 注意輸入的 shape"
   ]
  },
  {
   "cell_type": "code",
   "execution_count": 99,
   "id": "0f811a4d",
   "metadata": {},
   "outputs": [
    {
     "name": "stdout",
     "output_type": "stream",
     "text": [
      "[0]\n"
     ]
    }
   ],
   "source": [
    "X_new = [5.1, 3.2, 1.4, 0.2]\n",
    "\n",
    "print(rf_clf.predict([X_new]))"
   ]
  },
  {
   "cell_type": "markdown",
   "id": "0be42bd7",
   "metadata": {},
   "source": [
    "> 在未來我們僅需要量測四個 feature 數值，便可以預測出花的種類"
   ]
  }
 ],
 "metadata": {
  "kernelspec": {
   "display_name": "Python 3",
   "language": "python",
   "name": "python3"
  },
  "language_info": {
   "codemirror_mode": {
    "name": "ipython",
    "version": 3
   },
   "file_extension": ".py",
   "mimetype": "text/x-python",
   "name": "python",
   "nbconvert_exporter": "python",
   "pygments_lexer": "ipython3",
   "version": "3.8.8"
  }
 },
 "nbformat": 4,
 "nbformat_minor": 5
}
